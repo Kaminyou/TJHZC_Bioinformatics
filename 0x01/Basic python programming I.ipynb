{
 "cells": [
  {
   "cell_type": "markdown",
   "metadata": {},
   "source": [
    "# 0. Feature of the jupyter notebook"
   ]
  },
  {
   "cell_type": "markdown",
   "metadata": {},
   "source": [
    "### 0.1 How to use jupyter notebook"
   ]
  },
  {
   "cell_type": "code",
   "execution_count": 4,
   "metadata": {},
   "outputs": [],
   "source": [
    "# Line numbers\n",
    "# How to install pacakges\n",
    "# How to execute\n",
    "# Add or delete code cells"
   ]
  },
  {
   "cell_type": "markdown",
   "metadata": {},
   "source": [
    "### 0.2 python comments"
   ]
  },
  {
   "cell_type": "code",
   "execution_count": 7,
   "metadata": {},
   "outputs": [
    {
     "data": {
      "text/plain": [
       "'\\n3. Python comments\\n'"
      ]
     },
     "execution_count": 7,
     "metadata": {},
     "output_type": "execute_result"
    }
   ],
   "source": [
    "# Python comments \n",
    "1. #####\n",
    "\n",
    "\"\"\"\n",
    "2. Python comments\n",
    "\"\"\"\n",
    "\n",
    "'''\n",
    "3. Python comments\n",
    "'''"
   ]
  },
  {
   "cell_type": "markdown",
   "metadata": {},
   "source": [
    "### 0.3 forget how to use any function"
   ]
  },
  {
   "cell_type": "code",
   "execution_count": 1,
   "metadata": {},
   "outputs": [],
   "source": [
    "print??"
   ]
  },
  {
   "cell_type": "markdown",
   "metadata": {},
   "source": [
    "# 1. Assign variable"
   ]
  },
  {
   "cell_type": "markdown",
   "metadata": {},
   "source": [
    "### 1.1 integer"
   ]
  },
  {
   "cell_type": "code",
   "execution_count": 1,
   "metadata": {},
   "outputs": [
    {
     "name": "stdout",
     "output_type": "stream",
     "text": [
      "0xff\n"
     ]
    }
   ],
   "source": [
    "# integer\n",
    "a = 10\n",
    "b = int(20)\n",
    "n_b = -20\n",
    "c = 1 << 10 \n",
    "to_int = int(\"0xff\", 16)\n",
    "to_hex = hex(255)\n",
    "print(to_hex)"
   ]
  },
  {
   "cell_type": "markdown",
   "metadata": {},
   "source": [
    "### 1.2 float"
   ]
  },
  {
   "cell_type": "code",
   "execution_count": 2,
   "metadata": {},
   "outputs": [],
   "source": [
    "# float\n",
    "d = 3.14\n",
    "e = 6.02e23 # Avogadro constant"
   ]
  },
  {
   "cell_type": "markdown",
   "metadata": {},
   "source": [
    "### 1.3 char & string"
   ]
  },
  {
   "cell_type": "code",
   "execution_count": 3,
   "metadata": {},
   "outputs": [
    {
     "name": "stdout",
     "output_type": "stream",
     "text": [
      "2.718\n"
     ]
    }
   ],
   "source": [
    "# char & string\n",
    "char = \"c\"\n",
    "hello = \"hello\"\n",
    "float_to_string = str(2.718)\n",
    "print(float_to_string)"
   ]
  },
  {
   "cell_type": "markdown",
   "metadata": {},
   "source": [
    "### 1.4 bool & other"
   ]
  },
  {
   "cell_type": "code",
   "execution_count": 4,
   "metadata": {},
   "outputs": [],
   "source": [
    "# bool\n",
    "true = True\n",
    "false = False\n",
    "none = None\n",
    "### any value > 0 is True!"
   ]
  },
  {
   "cell_type": "markdown",
   "metadata": {},
   "source": [
    "### 1.5 miscellaneous"
   ]
  },
  {
   "cell_type": "code",
   "execution_count": 5,
   "metadata": {},
   "outputs": [
    {
     "data": {
      "text/plain": [
       "'d'"
      ]
     },
     "execution_count": 5,
     "metadata": {},
     "output_type": "execute_result"
    }
   ],
   "source": [
    "# miscellaneous\n",
    "ord(\"a\") # ascii\n",
    "chr(100) # =\"d\""
   ]
  },
  {
   "cell_type": "markdown",
   "metadata": {},
   "source": [
    "### 1.6 simultaneous assignment"
   ]
  },
  {
   "cell_type": "code",
   "execution_count": 6,
   "metadata": {},
   "outputs": [
    {
     "name": "stdout",
     "output_type": "stream",
     "text": [
      "any sentence 1\n"
     ]
    }
   ],
   "source": [
    "# simultaneous assignment\n",
    "i, j, k = 1, 2.5, \"any sentence\"\n",
    "i, k = k, i\n",
    "print(i, k)"
   ]
  },
  {
   "cell_type": "markdown",
   "metadata": {},
   "source": [
    "# 2. Operators"
   ]
  },
  {
   "cell_type": "markdown",
   "metadata": {},
   "source": [
    "### 2.1 basic"
   ]
  },
  {
   "cell_type": "code",
   "execution_count": 2,
   "metadata": {},
   "outputs": [
    {
     "ename": "NameError",
     "evalue": "name 'a' is not defined",
     "output_type": "error",
     "traceback": [
      "\u001b[1;31m---------------------------------------------------------------------------\u001b[0m",
      "\u001b[1;31mNameError\u001b[0m                                 Traceback (most recent call last)",
      "\u001b[1;32m<ipython-input-2-00b52e330226>\u001b[0m in \u001b[0;36m<module>\u001b[1;34m\u001b[0m\n\u001b[1;32m----> 1\u001b[1;33m \u001b[0madd\u001b[0m \u001b[1;33m=\u001b[0m \u001b[0ma\u001b[0m \u001b[1;33m+\u001b[0m \u001b[0mb\u001b[0m\u001b[1;33m\u001b[0m\u001b[1;33m\u001b[0m\u001b[0m\n\u001b[0m\u001b[0;32m      2\u001b[0m \u001b[0msubtract\u001b[0m \u001b[1;33m=\u001b[0m \u001b[0ma\u001b[0m \u001b[1;33m-\u001b[0m \u001b[0mb\u001b[0m\u001b[1;33m\u001b[0m\u001b[1;33m\u001b[0m\u001b[0m\n\u001b[0;32m      3\u001b[0m \u001b[0mmultiply\u001b[0m \u001b[1;33m=\u001b[0m \u001b[0ma\u001b[0m \u001b[1;33m*\u001b[0m \u001b[0mb\u001b[0m\u001b[1;33m\u001b[0m\u001b[1;33m\u001b[0m\u001b[0m\n\u001b[0;32m      4\u001b[0m \u001b[0mdivide\u001b[0m \u001b[1;33m=\u001b[0m \u001b[0ma\u001b[0m \u001b[1;33m/\u001b[0m \u001b[0mb\u001b[0m \u001b[1;31m#float\u001b[0m\u001b[1;33m\u001b[0m\u001b[1;33m\u001b[0m\u001b[0m\n\u001b[0;32m      5\u001b[0m \u001b[0mdivide_integer\u001b[0m \u001b[1;33m=\u001b[0m \u001b[0ma\u001b[0m \u001b[1;33m//\u001b[0m \u001b[0mb\u001b[0m\u001b[1;33m\u001b[0m\u001b[1;33m\u001b[0m\u001b[0m\n",
      "\u001b[1;31mNameError\u001b[0m: name 'a' is not defined"
     ]
    }
   ],
   "source": [
    "add = a + b\n",
    "subtract = a - b\n",
    "multiply = a * b\n",
    "divide = a / b #float\n",
    "divide_integer = a // b\n",
    "mod = a % b\n",
    "exp = d**2\n",
    "\n",
    "long_statement = ((a + b) / 2.5)\n",
    "print(add, subtract, multiply, divide, divide_integer, mod, exp, long_statement, xor)"
   ]
  },
  {
   "cell_type": "markdown",
   "metadata": {},
   "source": [
    "### 2.2 bitwise operation"
   ]
  },
  {
   "cell_type": "code",
   "execution_count": null,
   "metadata": {},
   "outputs": [],
   "source": [
    "and_operator = 20 & 50\n",
    "or_operator = 20 | 50\n",
    "xor = chr(ord(\"a\") ^  ord(\"b\") ^ ord(\"b\")) # this can break AES CBC mode encryption by padding oracle attack\n",
    "left_shift = 0xff << 5\n",
    "right_shift = 0b11101111 >> 3"
   ]
  },
  {
   "cell_type": "markdown",
   "metadata": {},
   "source": [
    "### 2.3 concise"
   ]
  },
  {
   "cell_type": "code",
   "execution_count": 9,
   "metadata": {},
   "outputs": [
    {
     "name": "stdout",
     "output_type": "stream",
     "text": [
      "15 200\n"
     ]
    }
   ],
   "source": [
    "a += 5\n",
    "b *= 10 # -=, /=, //=\n",
    "print(a,b)"
   ]
  },
  {
   "cell_type": "markdown",
   "metadata": {},
   "source": [
    "# 3. Principle of Variable Naming"
   ]
  },
  {
   "cell_type": "code",
   "execution_count": 36,
   "metadata": {},
   "outputs": [
    {
     "name": "stdout",
     "output_type": "stream",
     "text": [
      "False\n"
     ]
    }
   ],
   "source": [
    "# Must start with a letter or underscore _\n",
    "m = 7\n",
    "_m = 7\n",
    "m_n = 7\n",
    "\n",
    "# Must consist of letters and numbers and underscores\n",
    "m1 = 6\n",
    "m2 = 7\n",
    "m3_3 = 10\n",
    "\n",
    "# Case Sensitive\n",
    "o = 6\n",
    "O = 7\n",
    "print(o == O) # False\n",
    "\n",
    "# Let the variable have some meaning\n",
    "student_id = \"r011111111\"\n",
    "student_loc = \"NTU\"\n",
    "\n",
    "# Should not combine Upper case in the middle of variable name\n",
    "StudentID = \"r011111111\" # Bad\n",
    "studentid = \"r011111111\" # Not good\n",
    "student_id = \"r011111111\" # Please name your variable like this"
   ]
  },
  {
   "cell_type": "markdown",
   "metadata": {},
   "source": [
    "# 4. input() and print() function"
   ]
  },
  {
   "cell_type": "markdown",
   "metadata": {},
   "source": [
    "### 4.1 basic"
   ]
  },
  {
   "cell_type": "code",
   "execution_count": 10,
   "metadata": {},
   "outputs": [
    {
     "name": "stdout",
     "output_type": "stream",
     "text": [
      "Any int:5\n",
      "5\n",
      "5 good\n",
      "461 good\n"
     ]
    }
   ],
   "source": [
    "# comma -> space\n",
    "a = int(input(\"Any int:\"))\n",
    "print(a)\n",
    "\n",
    "b = \"good\"\n",
    "print(a, b)\n",
    "\n",
    "c = 456\n",
    "print(a + c, b)"
   ]
  },
  {
   "cell_type": "markdown",
   "metadata": {},
   "source": [
    "### 4.2 how to add variable into print() function"
   ]
  },
  {
   "cell_type": "code",
   "execution_count": 12,
   "metadata": {},
   "outputs": [
    {
     "name": "stdout",
     "output_type": "stream",
     "text": [
      "Method 1 by comma\n",
      "Method 2 || by format\n",
      "Method 3 || by f string\n",
      "You can control float by f string like 0.477\n",
      "You can add any function in f string like 0.480\n"
     ]
    }
   ],
   "source": [
    "test_float = 0.4771\n",
    "\n",
    "method_three = 3\n",
    "name_of_method_three = \"f string\"\n",
    "\n",
    "print(\"Method\", 1, \"by comma\")\n",
    "print(\"Method {} || {}\".format(2, \"by format\"))\n",
    "print(f\"Method {method_three} || by {name_of_method_three}\")\n",
    "\n",
    "print(f\"You can control float by f string like {test_float:.3f}\")\n",
    "print(f\"You can add any function in f string like {round(test_float, 2):.3f}\")"
   ]
  },
  {
   "cell_type": "markdown",
   "metadata": {},
   "source": [
    "# 5. String manipulation"
   ]
  },
  {
   "cell_type": "markdown",
   "metadata": {},
   "source": [
    "### 5.1 combine string"
   ]
  },
  {
   "cell_type": "code",
   "execution_count": 13,
   "metadata": {},
   "outputs": [
    {
     "name": "stdout",
     "output_type": "stream",
     "text": [
      "916 hello bioinformatics\n",
      "=================================\n",
      "False\n",
      "hello bioinformatics\n",
      "True\n"
     ]
    }
   ],
   "source": [
    "# combine string\n",
    "# either \"\" or '' is acceptable\n",
    "sentence_one = 'hello'\n",
    "sentence_two = \"bioinformatics\"\n",
    "value = 916\n",
    "print(str(value) + \" \" + sentence_one + \" \" + sentence_two)\n",
    "\n",
    "print(\"=================================\")\n",
    "# another method\n",
    "sentence_three = \"\"\n",
    "print(bool(sentence_three))\n",
    "\n",
    "sentence_four = \"hello bioinformatics\"\n",
    "sentence_three += sentence_four\n",
    "print(sentence_three)\n",
    "print(bool(sentence_three))"
   ]
  },
  {
   "cell_type": "markdown",
   "metadata": {},
   "source": [
    "### 5.2 escape sequence"
   ]
  },
  {
   "cell_type": "code",
   "execution_count": 14,
   "metadata": {},
   "outputs": [
    {
     "name": "stdout",
     "output_type": "stream",
     "text": [
      "hello\n",
      "bioinformatics\n",
      "hello\tbioinformatics\n",
      "hello\\bioinformatics\n",
      "hello\r",
      "bioinformatics\n",
      "hello bioinformatics hello bioinformatics\n",
      "==================================================\n",
      "True\n",
      "False\n",
      "True\n"
     ]
    }
   ],
   "source": [
    "# escape sequence\n",
    "print(\"hello\\nbioinformatics\")\n",
    "print(\"hello\\tbioinformatics\")\n",
    "print(\"hello\\\\bioinformatics\")\n",
    "print(\"hello\\rbioinformatics\")\n",
    "print(\"hello bioinformatics\",end=\" \") #default end with \"\\n\"\n",
    "print(\"hello bioinformatics\")\n",
    "\n",
    "print(\"=\" * 50)\n"
   ]
  },
  {
   "cell_type": "markdown",
   "metadata": {},
   "source": [
    "### 5.3 contain"
   ]
  },
  {
   "cell_type": "code",
   "execution_count": 15,
   "metadata": {},
   "outputs": [
    {
     "name": "stdout",
     "output_type": "stream",
     "text": [
      "True\n",
      "False\n",
      "True\n"
     ]
    }
   ],
   "source": [
    "#contain\n",
    "vowels = \"aeiou\"\n",
    "print(\"a\" in vowels)\n",
    "print(\"c\" in vowels)\n",
    "print(not \"c\" in vowels)"
   ]
  },
  {
   "cell_type": "markdown",
   "metadata": {},
   "source": [
    "### 5.4 slicing"
   ]
  },
  {
   "cell_type": "code",
   "execution_count": 17,
   "metadata": {},
   "outputs": [
    {
     "name": "stdout",
     "output_type": "stream",
     "text": [
      "T\n",
      "e Zen of\n",
      "eters\n",
      "TeZno yhn yTmPtr\n"
     ]
    }
   ],
   "source": [
    "long_sentence = \"The Zen of Python, by Tim Peters\"\n",
    "print(long_sentence[0])\n",
    "print(long_sentence[2:10])\n",
    "print(long_sentence[-5:])\n",
    "print(long_sentence[::2])"
   ]
  },
  {
   "cell_type": "markdown",
   "metadata": {},
   "source": [
    "### 5.5 built in fucntion"
   ]
  },
  {
   "cell_type": "code",
   "execution_count": 18,
   "metadata": {},
   "outputs": [
    {
     "name": "stdout",
     "output_type": "stream",
     "text": [
      "32\n",
      "True\n",
      "4\n",
      "-1\n",
      "6\n",
      "The  Zen  of  Python,  by  Tim  Peters\n",
      "['The Zen of Python', ' by Tim Peters']\n",
      "The Zen of Python, by Tim Peters\n",
      "\n",
      "The Zen of Python, by Tim Peters\n",
      "['The Zen of Python', ' by Tim Peters']\n"
     ]
    }
   ],
   "source": [
    "print(len(long_sentence))\n",
    "print(long_sentence.startswith(\"The\"))\n",
    "print(long_sentence.find(\"Zen\"))\n",
    "print(long_sentence.find(\"Ken\")) # if the substring is not found, return -1\n",
    "print(long_sentence.count(\" \"))\n",
    "print(long_sentence.replace(\" \",\"  \"))\n",
    "print(long_sentence.split(\",\"))\n",
    "another_long_sentence = \"The Zen of Python, by Tim Peters\\n\"\n",
    "print(another_long_sentence)\n",
    "another_long_sentence_after_strip = another_long_sentence.strip()\n",
    "print(another_long_sentence_after_strip)\n",
    "print(another_long_sentence.strip().split(\",\"))"
   ]
  },
  {
   "cell_type": "markdown",
   "metadata": {},
   "source": [
    "# 6. List"
   ]
  },
  {
   "cell_type": "markdown",
   "metadata": {},
   "source": [
    "### 6.1 assign"
   ]
  },
  {
   "cell_type": "code",
   "execution_count": 3,
   "metadata": {},
   "outputs": [
    {
     "name": "stdout",
     "output_type": "stream",
     "text": [
      "1\n",
      "[1, 2]\n"
     ]
    }
   ],
   "source": [
    "# assign list **idx start from 0\n",
    "a = [1,2,3]\n",
    "print(a[0])\n",
    "print(a[0:2])\n",
    "\n",
    "# assign an empty list\n",
    "my_data_empty = []"
   ]
  },
  {
   "cell_type": "markdown",
   "metadata": {},
   "source": [
    "### 6.2 method"
   ]
  },
  {
   "cell_type": "code",
   "execution_count": 4,
   "metadata": {},
   "outputs": [
    {
     "name": "stdout",
     "output_type": "stream",
     "text": [
      "[10]\n",
      "[10, 20]\n",
      "[30, 10, 20]\n"
     ]
    }
   ],
   "source": [
    "## append value\n",
    "my_data_empty.append(10)\n",
    "print(my_data_empty)\n",
    "\n",
    "my_data_empty.append(20)\n",
    "print(my_data_empty)\n",
    "\n",
    "##insert value\n",
    "my_data_empty.insert(0, 30)\n",
    "print(my_data_empty)"
   ]
  },
  {
   "cell_type": "markdown",
   "metadata": {},
   "source": [
    "### 6.3 lists are mutable"
   ]
  },
  {
   "cell_type": "code",
   "execution_count": 5,
   "metadata": {},
   "outputs": [
    {
     "name": "stdout",
     "output_type": "stream",
     "text": [
      "[30, 100, 20]\n",
      "[30, 100, 20]\n"
     ]
    }
   ],
   "source": [
    "my_data_empty_copy = my_data_empty\n",
    "\n",
    "## lists are mutable\n",
    "my_data_empty[1] = 100\n",
    "print(my_data_empty)\n",
    "print(my_data_empty_copy)"
   ]
  },
  {
   "cell_type": "markdown",
   "metadata": {},
   "source": [
    "### 6.4 other methods"
   ]
  },
  {
   "cell_type": "code",
   "execution_count": 6,
   "metadata": {},
   "outputs": [
    {
     "name": "stdout",
     "output_type": "stream",
     "text": [
      "[30, 100]\n",
      "[30, 100, 1000]\n"
     ]
    }
   ],
   "source": [
    "##pop value\n",
    "my_data_empty.pop(2)\n",
    "print(my_data_empty)\n",
    "\n",
    "## another method to append\n",
    "my_data_empty += [1000]\n",
    "print(my_data_empty)"
   ]
  },
  {
   "cell_type": "markdown",
   "metadata": {},
   "source": [
    "### 6.5 heterogeneous"
   ]
  },
  {
   "cell_type": "code",
   "execution_count": 7,
   "metadata": {},
   "outputs": [],
   "source": [
    "my_data = [\"Zen\", \"Python\", 2000, 123.4]"
   ]
  },
  {
   "cell_type": "markdown",
   "metadata": {},
   "source": [
    "### 6.6 function"
   ]
  },
  {
   "cell_type": "code",
   "execution_count": 9,
   "metadata": {},
   "outputs": [
    {
     "name": "stdout",
     "output_type": "stream",
     "text": [
      "9\n",
      "21\n",
      "0\n",
      "54\n"
     ]
    }
   ],
   "source": [
    "my_another_data = [0, 1, 1, 2, 3, 5, 8, 13, 21]\n",
    "print(len(my_another_data))\n",
    "print(max(my_another_data))\n",
    "print(min(my_another_data))\n",
    "print(sum(my_another_data))"
   ]
  },
  {
   "cell_type": "markdown",
   "metadata": {},
   "source": [
    "### 6.7 quick assignment"
   ]
  },
  {
   "cell_type": "code",
   "execution_count": 12,
   "metadata": {},
   "outputs": [
    {
     "name": "stdout",
     "output_type": "stream",
     "text": [
      "[0, 0, 0, 0, 0, 0, 0, 0, 0, 0]\n",
      "[0, 1, 2, 3, 4, 5, 6, 7, 8, 9]\n"
     ]
    }
   ],
   "source": [
    "my_third_data = [0] *10\n",
    "print(my_third_data)\n",
    "\n",
    "my_fourth_data = []\n",
    "for i in range(10):\n",
    "    my_fourth_data.append(i)\n",
    "print(my_fourth_data)"
   ]
  },
  {
   "cell_type": "markdown",
   "metadata": {},
   "source": [
    "### 6.8 quick assignment 2"
   ]
  },
  {
   "cell_type": "code",
   "execution_count": 13,
   "metadata": {},
   "outputs": [
    {
     "name": "stdout",
     "output_type": "stream",
     "text": [
      "[5, 7, 9, 11, 13]\n"
     ]
    }
   ],
   "source": [
    "my_fifth_data = [i for i in range(10)]\n",
    "my_sixth_data = [x + y for x, y in zip(range(5), range(5,10))]\n",
    "print(my_sixth_data)"
   ]
  },
  {
   "cell_type": "markdown",
   "metadata": {},
   "source": [
    "# 7. Dictionary"
   ]
  },
  {
   "cell_type": "markdown",
   "metadata": {},
   "source": [
    "### 7.1 assign and basic method"
   ]
  },
  {
   "cell_type": "code",
   "execution_count": 14,
   "metadata": {},
   "outputs": [
    {
     "name": "stdout",
     "output_type": "stream",
     "text": [
      "10\n",
      "B\n",
      "500\n"
     ]
    }
   ],
   "source": [
    "# assign an empty dict\n",
    "my_dict = {}\n",
    "my_dict[\"A\"] = 10\n",
    "my_dict[9] = \"B\"\n",
    "print(my_dict[\"A\"])\n",
    "print(my_dict[9])\n",
    "\n",
    "# direct assignment\n",
    "my_second_dict = {\"black tea\":30, \"green tea\":40, \"milk tea\": 60}\n",
    "my_third_dict = {\"black tea\":[30, \"cool\"], \"green tea\":40, \"milk tea\": 60}\n",
    "my_fourth_dict = {\"black tea\":{\"price\":30, \"vol\":700}, \n",
    "                  \"green tea\":{\"price\":40, \"vol\":700}, \n",
    "                  \"milk tea\": {\"price\":60, \"vol\":500}}\n",
    "print(my_fourth_dict[\"milk tea\"][\"vol\"])"
   ]
  },
  {
   "cell_type": "markdown",
   "metadata": {},
   "source": [
    "### 7.2 check if key exists"
   ]
  },
  {
   "cell_type": "code",
   "execution_count": 15,
   "metadata": {},
   "outputs": [
    {
     "name": "stdout",
     "output_type": "stream",
     "text": [
      "True\n",
      "False\n"
     ]
    }
   ],
   "source": [
    "print(\"milk tea\" in my_fourth_dict)\n",
    "print(\"matcha\" in my_fourth_dict)"
   ]
  },
  {
   "cell_type": "markdown",
   "metadata": {},
   "source": [
    "### 7.3 function"
   ]
  },
  {
   "cell_type": "code",
   "execution_count": 16,
   "metadata": {},
   "outputs": [
    {
     "name": "stdout",
     "output_type": "stream",
     "text": [
      "3\n",
      "black tea {'price': 30, 'vol': 700}\n",
      "green tea {'price': 40, 'vol': 700}\n",
      "milk tea {'price': 60, 'vol': 500}\n",
      "{'green tea': {'price': 40, 'vol': 700}, 'milk tea': {'price': 60, 'vol': 500}}\n"
     ]
    }
   ],
   "source": [
    "print(len(my_fourth_dict))\n",
    "\n",
    "for key, value in my_fourth_dict.items():\n",
    "    print(key, value)\n",
    "\n",
    "del my_fourth_dict[\"black tea\"]\n",
    "print(my_fourth_dict)"
   ]
  },
  {
   "cell_type": "markdown",
   "metadata": {},
   "source": [
    "# 8. Loop"
   ]
  },
  {
   "cell_type": "markdown",
   "metadata": {},
   "source": [
    "## 8.1 for loop\n",
    "### 8.1.1 basic"
   ]
  },
  {
   "cell_type": "code",
   "execution_count": 17,
   "metadata": {},
   "outputs": [
    {
     "name": "stdout",
     "output_type": "stream",
     "text": [
      "0_1_2_3_4_5_6_7_8_9_\n"
     ]
    },
    {
     "name": "stdout",
     "output_type": "stream",
     "text": [
      "AAAAAAAAAAProcess 1\r",
      "Process 2\r",
      "Process 3\r",
      "Process 4\r",
      "Process 5\r",
      "Process 6\r",
      "Process 7\r",
      "Process 8\r",
      "Process 9\r",
      "Process 10\r",
      "Process 11\r",
      "Process 12\r",
      "Process 13\r",
      "Process 14\r",
      "Process 15\r",
      "Process 16\r",
      "Process 17\r",
      "Process 18\r",
      "Process 19\r",
      "Process 20\r",
      "Process 21\r",
      "Process 22\r",
      "Process 23\r",
      "Process 24\r",
      "Process 25\r",
      "Process 26\r",
      "Process 27\r",
      "Process 28\r",
      "Process 29\r",
      "Process 30\r",
      "Process 31\r",
      "Process 32\r",
      "Process 33\r",
      "Process 34\r",
      "Process 35\r",
      "Process 36\r",
      "Process 37\r",
      "Process 38\r",
      "Process 39\r",
      "Process 40\r",
      "Process 41\r",
      "Process 42\r",
      "Process 43\r",
      "Process 44\r",
      "Process 45\r",
      "Process 46\r",
      "Process 47\r",
      "Process 48\r",
      "Process 49\r",
      "Process 50\r",
      "Process 51\r",
      "Process 52\r",
      "Process 53\r",
      "Process 54\r",
      "Process 55\r",
      "Process 56\r",
      "Process 57\r",
      "Process 58\r",
      "Process 59\r",
      "Process 60\r",
      "Process 61\r",
      "Process 62\r",
      "Process 63\r",
      "Process 64\r",
      "Process 65\r",
      "Process 66\r",
      "Process 67\r",
      "Process 68\r",
      "Process 69\r",
      "Process 70\r",
      "Process 71\r",
      "Process 72\r",
      "Process 73\r",
      "Process 74\r",
      "Process 75\r",
      "Process 76\r",
      "Process 77\r",
      "Process 78\r",
      "Process 79\r",
      "Process 80\r",
      "Process 81\r",
      "Process 82\r",
      "Process 83\r",
      "Process 84\r",
      "Process 85\r",
      "Process 86\r",
      "Process 87\r",
      "Process 88\r",
      "Process 89\r",
      "Process 90\r",
      "Process 91\r",
      "Process 92\r",
      "Process 93\r",
      "Process 94\r",
      "Process 95\r",
      "Process 96\r",
      "Process 97\r",
      "Process 98\r",
      "Process 99\r",
      "Process 100\r",
      "Process 101\r",
      "Process 102\r",
      "Process 103\r",
      "Process 104\r",
      "Process 105\r",
      "Process 106\r",
      "Process 107\r",
      "Process 108\r",
      "Process 109\r",
      "Process 110\r",
      "Process 111\r",
      "Process 112\r",
      "Process 113\r",
      "Process 114\r",
      "Process 115\r",
      "Process 116\r",
      "Process 117\r",
      "Process 118\r",
      "Process 119\r",
      "Process 120\r",
      "Process 121\r",
      "Process 122\r",
      "Process 123\r",
      "Process 124\r",
      "Process 125\r",
      "Process 126\r",
      "Process 127\r",
      "Process 128\r",
      "Process 129\r",
      "Process 130\r",
      "Process 131\r",
      "Process 132\r",
      "Process 133\r",
      "Process 134\r",
      "Process 135\r",
      "Process 136\r",
      "Process 137\r",
      "Process 138\r",
      "Process 139\r",
      "Process 140\r",
      "Process 141\r",
      "Process 142\r",
      "Process 143\r",
      "Process 144\r",
      "Process 145\r",
      "Process 146\r",
      "Process 147\r",
      "Process 148\r",
      "Process 149\r",
      "Process 150\r",
      "Process 151\r",
      "Process 152\r",
      "Process 153\r",
      "Process 154\r",
      "Process 155\r",
      "Process 156\r",
      "Process 157\r",
      "Process 158\r",
      "Process 159\r",
      "Process 160\r",
      "Process 161\r",
      "Process 162\r",
      "Process 163\r",
      "Process 164\r",
      "Process 165\r",
      "Process 166\r",
      "Process 167\r",
      "Process 168\r",
      "Process 169\r",
      "Process 170\r",
      "Process 171\r",
      "Process 172\r",
      "Process 173\r",
      "Process 174\r",
      "Process 175\r",
      "Process 176\r",
      "Process 177\r",
      "Process 178\r",
      "Process 179\r",
      "Process 180\r",
      "Process 181\r",
      "Process 182\r",
      "Process 183\r",
      "Process 184\r",
      "Process 185\r",
      "Process 186\r",
      "Process 187\r",
      "Process 188\r",
      "Process 189\r",
      "Process 190\r",
      "Process 191\r",
      "Process 192\r",
      "Process 193\r",
      "Process 194\r",
      "Process 195\r",
      "Process 196\r",
      "Process 197\r",
      "Process 198\r",
      "Process 199\r",
      "Process 200\r",
      "Process 201\r",
      "Process 202\r",
      "Process 203\r",
      "Process 204\r",
      "Process 205\r",
      "Process 206\r",
      "Process 207\r",
      "Process 208\r",
      "Process 209\r",
      "Process 210\r",
      "Process 211\r",
      "Process 212\r",
      "Process 213\r",
      "Process 214\r",
      "Process 215\r",
      "Process 216\r",
      "Process 217\r",
      "Process 218\r",
      "Process 219\r",
      "Process 220\r",
      "Process 221\r",
      "Process 222\r",
      "Process 223\r",
      "Process 224\r",
      "Process 225\r",
      "Process 226\r",
      "Process 227\r",
      "Process 228\r",
      "Process 229\r",
      "Process 230\r",
      "Process 231\r",
      "Process 232\r",
      "Process 233\r",
      "Process 234\r",
      "Process 235\r",
      "Process 236\r",
      "Process 237\r",
      "Process 238\r",
      "Process 239\r",
      "Process 240\r",
      "Process 241\r",
      "Process 242\r",
      "Process 243\r",
      "Process 244\r",
      "Process 245\r",
      "Process 246\r",
      "Process 247\r",
      "Process 248\r",
      "Process 249\r",
      "Process 250\r",
      "Process 251\r",
      "Process 252\r",
      "Process 253\r",
      "Process 254\r",
      "Process 255\r",
      "Process 256\r",
      "Process 257\r",
      "Process 258\r",
      "Process 259\r",
      "Process 260\r",
      "Process 261\r",
      "Process 262\r",
      "Process 263\r",
      "Process 264\r",
      "Process 265\r",
      "Process 266\r",
      "Process 267\r",
      "Process 268\r",
      "Process 269\r",
      "Process 270\r",
      "Process 271\r",
      "Process 272\r",
      "Process 273\r",
      "Process 274\r",
      "Process 275\r",
      "Process 276\r",
      "Process 277\r",
      "Process 278\r",
      "Process 279\r",
      "Process 280\r",
      "Process 281\r",
      "Process 282\r",
      "Process 283\r",
      "Process 284\r",
      "Process 285\r",
      "Process 286\r",
      "Process 287\r",
      "Process 288\r",
      "Process 289\r",
      "Process 290\r",
      "Process 291\r",
      "Process 292\r",
      "Process 293\r",
      "Process 294\r",
      "Process 295\r",
      "Process 296\r",
      "Process 297\r",
      "Process 298\r",
      "Process 299\r",
      "Process 300\r",
      "Process 301\r",
      "Process 302\r",
      "Process 303\r",
      "Process 304\r",
      "Process 305\r",
      "Process 306\r",
      "Process 307\r",
      "Process 308\r",
      "Process 309\r",
      "Process 310\r",
      "Process 311\r",
      "Process 312\r",
      "Process 313\r",
      "Process 314\r",
      "Process 315\r",
      "Process 316\r",
      "Process 317\r",
      "Process 318\r",
      "Process 319\r",
      "Process 320\r",
      "Process 321\r",
      "Process 322\r",
      "Process 323\r",
      "Process 324\r",
      "Process 325\r",
      "Process 326\r",
      "Process 327\r",
      "Process 328\r",
      "Process 329\r",
      "Process 330\r",
      "Process 331\r",
      "Process 332\r",
      "Process 333\r",
      "Process 334\r",
      "Process 335\r",
      "Process 336\r",
      "Process 337\r",
      "Process 338\r",
      "Process 339\r",
      "Process 340\r",
      "Process 341\r",
      "Process 342\r",
      "Process 343\r",
      "Process 344\r",
      "Process 345\r",
      "Process 346\r",
      "Process 347\r",
      "Process 348\r",
      "Process 349\r",
      "Process 350\r",
      "Process 351\r",
      "Process 352\r",
      "Process 353\r",
      "Process 354\r",
      "Process 355\r",
      "Process 356\r",
      "Process 357\r",
      "Process 358\r",
      "Process 359\r",
      "Process 360\r",
      "Process 361\r",
      "Process 362\r",
      "Process 363\r",
      "Process 364\r",
      "Process 365\r",
      "Process 366\r",
      "Process 367\r",
      "Process 368\r",
      "Process 369\r",
      "Process 370\r",
      "Process 371\r",
      "Process 372\r",
      "Process 373\r",
      "Process 374\r",
      "Process 375\r",
      "Process 376\r",
      "Process 377\r",
      "Process 378\r",
      "Process 379\r",
      "Process 380\r",
      "Process 381\r",
      "Process 382\r",
      "Process 383\r",
      "Process 384\r",
      "Process 385\r",
      "Process 386\r",
      "Process 387\r",
      "Process 388\r",
      "Process 389\r",
      "Process 390\r",
      "Process 391\r",
      "Process 392\r",
      "Process 393\r",
      "Process 394\r",
      "Process 395\r",
      "Process 396\r",
      "Process 397\r",
      "Process 398\r",
      "Process 399\r",
      "Process 400\r",
      "Process 401\r",
      "Process 402\r",
      "Process 403\r",
      "Process 404\r",
      "Process 405\r",
      "Process 406\r",
      "Process 407\r",
      "Process 408\r",
      "Process 409\r",
      "Process 410\r",
      "Process 411\r",
      "Process 412\r",
      "Process 413\r",
      "Process 414\r",
      "Process 415\r",
      "Process 416\r",
      "Process 417\r",
      "Process 418\r",
      "Process 419\r",
      "Process 420\r",
      "Process 421\r",
      "Process 422\r",
      "Process 423\r",
      "Process 424\r",
      "Process 425\r",
      "Process 426\r",
      "Process 427\r",
      "Process 428\r",
      "Process 429\r",
      "Process 430\r",
      "Process 431\r",
      "Process 432\r",
      "Process 433\r",
      "Process 434\r",
      "Process 435\r",
      "Process 436\r",
      "Process 437\r",
      "Process 438\r",
      "Process 439\r",
      "Process 440\r",
      "Process 441\r",
      "Process 442\r",
      "Process 443\r",
      "Process 444\r",
      "Process 445\r",
      "Process 446\r",
      "Process 447\r",
      "Process 448\r",
      "Process 449\r",
      "Process 450\r",
      "Process 451\r",
      "Process 452\r",
      "Process 453\r",
      "Process 454\r",
      "Process 455\r",
      "Process 456\r",
      "Process 457\r",
      "Process 458\r",
      "Process 459\r",
      "Process 460\r",
      "Process 461\r",
      "Process 462\r",
      "Process 463\r",
      "Process 464\r",
      "Process 465\r",
      "Process 466\r",
      "Process 467\r",
      "Process 468\r",
      "Process 469\r",
      "Process 470\r",
      "Process 471\r",
      "Process 472\r",
      "Process 473\r",
      "Process 474\r",
      "Process 475\r",
      "Process 476\r",
      "Process 477\r",
      "Process 478\r",
      "Process 479\r",
      "Process 480\r",
      "Process 481\r",
      "Process 482\r",
      "Process 483\r",
      "Process 484\r",
      "Process 485\r",
      "Process 486\r",
      "Process 487\r",
      "Process 488\r",
      "Process 489\r",
      "Process 490\r",
      "Process 491\r",
      "Process 492\r",
      "Process 493\r",
      "Process 494\r",
      "Process 495\r",
      "Process 496\r",
      "Process 497\r",
      "Process 498\r",
      "Process 499\r",
      "Process 500\r",
      "Process 501\r",
      "Process 502\r",
      "Process 503\r",
      "Process 504\r",
      "Process 505\r",
      "Process 506\r",
      "Process 507\r",
      "Process 508\r",
      "Process 509\r",
      "Process 510\r",
      "Process 511\r",
      "Process 512\r",
      "Process 513\r",
      "Process 514\r",
      "Process 515\r",
      "Process 516\r",
      "Process 517\r",
      "Process 518\r",
      "Process 519\r",
      "Process 520\r",
      "Process 521\r",
      "Process 522\r",
      "Process 523\r",
      "Process 524\r",
      "Process 525\r",
      "Process 526\r",
      "Process 527\r",
      "Process 528\r",
      "Process 529\r",
      "Process 530\r",
      "Process 531\r",
      "Process 532\r",
      "Process 533\r",
      "Process 534\r",
      "Process 535\r",
      "Process 536\r",
      "Process 537\r",
      "Process 538\r",
      "Process 539\r",
      "Process 540\r",
      "Process 541\r",
      "Process 542\r",
      "Process 543\r",
      "Process 544\r",
      "Process 545\r",
      "Process 546\r",
      "Process 547\r",
      "Process 548\r",
      "Process 549\r",
      "Process 550\r",
      "Process 551\r",
      "Process 552\r",
      "Process 553\r",
      "Process 554\r",
      "Process 555\r",
      "Process 556\r",
      "Process 557\r",
      "Process 558\r",
      "Process 559\r",
      "Process 560\r",
      "Process 561\r",
      "Process 562\r",
      "Process 563\r",
      "Process 564\r",
      "Process 565\r",
      "Process 566\r",
      "Process 567\r",
      "Process 568\r",
      "Process 569\r",
      "Process 570\r",
      "Process 571\r",
      "Process 572\r",
      "Process 573\r",
      "Process 574\r",
      "Process 575\r",
      "Process 576\r",
      "Process 577\r",
      "Process 578\r",
      "Process 579\r",
      "Process 580\r",
      "Process 581\r",
      "Process 582\r",
      "Process 583\r",
      "Process 584\r",
      "Process 585\r",
      "Process 586\r",
      "Process 587\r",
      "Process 588\r",
      "Process 589\r",
      "Process 590\r",
      "Process 591\r",
      "Process 592\r",
      "Process 593\r",
      "Process 594\r",
      "Process 595\r",
      "Process 596\r",
      "Process 597\r",
      "Process 598\r",
      "Process 599\r",
      "Process 600\r",
      "Process 601\r",
      "Process 602\r",
      "Process 603\r",
      "Process 604\r",
      "Process 605\r",
      "Process 606\r",
      "Process 607\r",
      "Process 608\r",
      "Process 609\r",
      "Process 610\r",
      "Process 611\r",
      "Process 612\r",
      "Process 613\r",
      "Process 614\r",
      "Process 615\r",
      "Process 616\r",
      "Process 617\r",
      "Process 618\r",
      "Process 619\r",
      "Process 620\r",
      "Process 621\r",
      "Process 622\r",
      "Process 623\r",
      "Process 624\r",
      "Process 625\r",
      "Process 626\r",
      "Process 627\r",
      "Process 628\r",
      "Process 629\r",
      "Process 630\r",
      "Process 631\r",
      "Process 632\r",
      "Process 633\r",
      "Process 634\r",
      "Process 635\r",
      "Process 636\r",
      "Process 637\r",
      "Process 638\r",
      "Process 639\r",
      "Process 640\r",
      "Process 641\r",
      "Process 642\r",
      "Process 643\r",
      "Process 644\r",
      "Process 645\r",
      "Process 646\r",
      "Process 647\r",
      "Process 648\r",
      "Process 649\r",
      "Process 650\r",
      "Process 651\r",
      "Process 652\r",
      "Process 653\r",
      "Process 654\r",
      "Process 655\r",
      "Process 656\r",
      "Process 657\r",
      "Process 658\r",
      "Process 659\r",
      "Process 660\r",
      "Process 661\r",
      "Process 662\r",
      "Process 663\r",
      "Process 664\r",
      "Process 665\r",
      "Process 666\r",
      "Process 667\r",
      "Process 668\r",
      "Process 669\r",
      "Process 670\r",
      "Process 671\r",
      "Process 672\r",
      "Process 673\r",
      "Process 674\r",
      "Process 675\r",
      "Process 676\r",
      "Process 677\r",
      "Process 678\r",
      "Process 679\r",
      "Process 680\r",
      "Process 681\r",
      "Process 682\r",
      "Process 683\r",
      "Process 684\r",
      "Process 685\r",
      "Process 686\r",
      "Process 687\r",
      "Process 688\r",
      "Process 689\r",
      "Process 690\r",
      "Process 691\r",
      "Process 692\r",
      "Process 693\r",
      "Process 694\r",
      "Process 695\r",
      "Process 696\r",
      "Process 697\r",
      "Process 698\r",
      "Process 699\r",
      "Process 700\r",
      "Process 701\r",
      "Process 702\r",
      "Process 703\r",
      "Process 704\r",
      "Process 705\r",
      "Process 706\r",
      "Process 707\r",
      "Process 708\r",
      "Process 709\r",
      "Process 710\r",
      "Process 711\r",
      "Process 712\r",
      "Process 713\r",
      "Process 714\r",
      "Process 715\r",
      "Process 716\r",
      "Process 717\r",
      "Process 718\r",
      "Process 719\r",
      "Process 720\r",
      "Process 721\r",
      "Process 722\r",
      "Process 723\r",
      "Process 724\r",
      "Process 725\r",
      "Process 726\r",
      "Process 727\r",
      "Process 728\r",
      "Process 729\r",
      "Process 730\r",
      "Process 731\r",
      "Process 732\r",
      "Process 733\r",
      "Process 734\r",
      "Process 735\r",
      "Process 736\r",
      "Process 737\r",
      "Process 738\r",
      "Process 739\r",
      "Process 740\r",
      "Process 741\r",
      "Process 742\r",
      "Process 743\r",
      "Process 744\r",
      "Process 745\r",
      "Process 746\r",
      "Process 747\r",
      "Process 748\r",
      "Process 749\r",
      "Process 750\r",
      "Process 751\r",
      "Process 752\r",
      "Process 753\r",
      "Process 754\r",
      "Process 755\r",
      "Process 756\r",
      "Process 757\r",
      "Process 758\r",
      "Process 759\r",
      "Process 760\r",
      "Process 761\r",
      "Process 762\r",
      "Process 763\r",
      "Process 764\r",
      "Process 765\r",
      "Process 766\r",
      "Process 767\r",
      "Process 768\r",
      "Process 769\r",
      "Process 770\r",
      "Process 771\r",
      "Process 772\r",
      "Process 773\r",
      "Process 774\r",
      "Process 775\r",
      "Process 776\r",
      "Process 777\r",
      "Process 778\r",
      "Process 779\r",
      "Process 780\r",
      "Process 781\r",
      "Process 782\r",
      "Process 783\r",
      "Process 784\r",
      "Process 785\r",
      "Process 786\r",
      "Process 787\r",
      "Process 788\r",
      "Process 789\r",
      "Process 790\r",
      "Process 791\r",
      "Process 792\r",
      "Process 793\r",
      "Process 794\r",
      "Process 795\r",
      "Process 796\r",
      "Process 797\r",
      "Process 798\r",
      "Process 799\r",
      "Process 800\r",
      "Process 801\r",
      "Process 802\r",
      "Process 803\r",
      "Process 804\r",
      "Process 805\r",
      "Process 806\r",
      "Process 807\r",
      "Process 808\r",
      "Process 809\r",
      "Process 810\r",
      "Process 811\r",
      "Process 812\r",
      "Process 813\r",
      "Process 814\r",
      "Process 815\r",
      "Process 816\r",
      "Process 817\r",
      "Process 818\r",
      "Process 819\r",
      "Process 820\r",
      "Process 821\r",
      "Process 822\r",
      "Process 823\r",
      "Process 824\r",
      "Process 825\r",
      "Process 826\r",
      "Process 827\r",
      "Process 828\r",
      "Process 829\r",
      "Process 830\r",
      "Process 831\r",
      "Process 832\r",
      "Process 833\r",
      "Process 834\r",
      "Process 835\r",
      "Process 836\r",
      "Process 837\r",
      "Process 838\r",
      "Process 839\r",
      "Process 840\r",
      "Process 841\r",
      "Process 842\r",
      "Process 843\r",
      "Process 844\r",
      "Process 845\r",
      "Process 846\r",
      "Process 847\r",
      "Process 848\r",
      "Process 849\r",
      "Process 850\r",
      "Process 851\r",
      "Process 852\r",
      "Process 853\r",
      "Process 854\r",
      "Process 855\r",
      "Process 856\r",
      "Process 857\r",
      "Process 858\r",
      "Process 859\r",
      "Process 860\r",
      "Process 861\r",
      "Process 862\r",
      "Process 863\r",
      "Process 864\r",
      "Process 865\r",
      "Process 866\r",
      "Process 867\r",
      "Process 868\r",
      "Process 869\r",
      "Process 870\r",
      "Process 871\r",
      "Process 872\r",
      "Process 873\r",
      "Process 874\r",
      "Process 875\r",
      "Process 876\r",
      "Process 877\r",
      "Process 878\r",
      "Process 879\r",
      "Process 880\r",
      "Process 881\r",
      "Process 882\r",
      "Process 883\r",
      "Process 884\r",
      "Process 885\r",
      "Process 886\r",
      "Process 887\r",
      "Process 888\r",
      "Process 889\r",
      "Process 890\r",
      "Process 891\r",
      "Process 892\r",
      "Process 893\r",
      "Process 894\r",
      "Process 895\r",
      "Process 896\r",
      "Process 897\r",
      "Process 898\r",
      "Process 899\r",
      "Process 900\r",
      "Process 901\r",
      "Process 902\r",
      "Process 903\r",
      "Process 904\r",
      "Process 905\r",
      "Process 906\r",
      "Process 907\r",
      "Process 908\r",
      "Process 909\r",
      "Process 910\r",
      "Process 911\r",
      "Process 912\r",
      "Process 913\r",
      "Process 914\r",
      "Process 915\r",
      "Process 916\r",
      "Process 917\r",
      "Process 918\r",
      "Process 919\r",
      "Process 920\r",
      "Process 921\r",
      "Process 922\r",
      "Process 923\r",
      "Process 924\r",
      "Process 925\r",
      "Process 926\r",
      "Process 927\r",
      "Process 928\r",
      "Process 929\r",
      "Process 930\r",
      "Process 931\r",
      "Process 932\r",
      "Process 933\r",
      "Process 934\r",
      "Process 935\r",
      "Process 936\r",
      "Process 937\r",
      "Process 938\r",
      "Process 939\r",
      "Process 940\r",
      "Process 941\r",
      "Process 942\r",
      "Process 943\r",
      "Process 944\r",
      "Process 945\r",
      "Process 946\r",
      "Process 947\r",
      "Process 948\r",
      "Process 949\r",
      "Process 950\r",
      "Process 951\r",
      "Process 952\r",
      "Process 953\r",
      "Process 954\r",
      "Process 955\r",
      "Process 956\r",
      "Process 957\r",
      "Process 958\r",
      "Process 959\r",
      "Process 960\r",
      "Process 961\r",
      "Process 962\r",
      "Process 963\r",
      "Process 964\r",
      "Process 965\r",
      "Process 966\r",
      "Process 967\r",
      "Process 968\r",
      "Process 969\r",
      "Process 970\r",
      "Process 971\r",
      "Process 972\r",
      "Process 973\r",
      "Process 974\r",
      "Process 975\r",
      "Process 976\r",
      "Process 977\r",
      "Process 978\r",
      "Process 979\r",
      "Process 980\r",
      "Process 981\r",
      "Process 982\r",
      "Process 983\r",
      "Process 984\r",
      "Process 985\r",
      "Process 986\r",
      "Process 987\r",
      "Process 988\r",
      "Process 989\r",
      "Process 990\r",
      "Process 991\r",
      "Process 992\r",
      "Process 993\r",
      "Process 994\r",
      "Process 995\r",
      "Process 996\r",
      "Process 997\r",
      "Process 998\r",
      "Process 999\r",
      "Process 1000\r"
     ]
    }
   ],
   "source": [
    "for i in range(10):\n",
    "    print(i, end = \"_\")\n",
    "print(\"\")\n",
    "\n",
    "for _ in range(10):\n",
    "    print(\"A\", end = \"\")\n",
    "\n",
    "for i in range(1000):\n",
    "    print(f\"Process {i+1}\", end = \"\\r\")"
   ]
  },
  {
   "cell_type": "markdown",
   "metadata": {},
   "source": [
    "### 8.1.2 enumerate and zip"
   ]
  },
  {
   "cell_type": "code",
   "execution_count": 18,
   "metadata": {},
   "outputs": [
    {
     "name": "stdout",
     "output_type": "stream",
     "text": [
      "A 10\n",
      "B 50\n",
      "C 40\n",
      "D 30\n",
      "1 A 10\n",
      "2 B 50\n",
      "3 C 40\n",
      "4 D 30\n"
     ]
    }
   ],
   "source": [
    "item_list = [\"A\", \"B\", \"C\", \"D\"]\n",
    "item_number_list = [10, 50, 40, 30]\n",
    "for item_name, item_number in zip(item_list, item_number_list):\n",
    "    print(item_name, item_number)\n",
    "    \n",
    "for idx, (item_name, item_number) in enumerate(zip(item_list, item_number_list)):\n",
    "    print(idx+1, item_name, item_number)"
   ]
  },
  {
   "cell_type": "markdown",
   "metadata": {},
   "source": [
    "## 8.2 while loop"
   ]
  },
  {
   "cell_type": "markdown",
   "metadata": {},
   "source": [
    "### 8.2.1 basic"
   ]
  },
  {
   "cell_type": "code",
   "execution_count": 20,
   "metadata": {},
   "outputs": [
    {
     "name": "stdout",
     "output_type": "stream",
     "text": [
      "Continue1\n",
      "Continue1\n",
      "Continue1\n",
      "Continue1\n",
      "Continue1\n",
      "Continue1\n",
      "Continue1\n",
      "Continue1\n"
     ]
    }
   ],
   "source": [
    "import random\n",
    "\n",
    "stop_flag = True\n",
    "while stop_flag:\n",
    "    print(\"Continue1\")\n",
    "    i = random.randint(0, 10)\n",
    "    if i == 6:\n",
    "        stop_flag = False"
   ]
  },
  {
   "cell_type": "markdown",
   "metadata": {},
   "source": [
    "### 8.2.2 break"
   ]
  },
  {
   "cell_type": "code",
   "execution_count": 21,
   "metadata": {},
   "outputs": [
    {
     "name": "stdout",
     "output_type": "stream",
     "text": [
      "Continue2\n",
      "Continue2\n"
     ]
    }
   ],
   "source": [
    "stop_flag = True\n",
    "while stop_flag:\n",
    "    print(\"Continue2\")\n",
    "    i = random.randint(0, 10)\n",
    "    if i == 7:\n",
    "        break"
   ]
  },
  {
   "cell_type": "markdown",
   "metadata": {},
   "source": [
    "### 8.2.3 continue"
   ]
  },
  {
   "cell_type": "code",
   "execution_count": 22,
   "metadata": {},
   "outputs": [
    {
     "name": "stdout",
     "output_type": "stream",
     "text": [
      "Continue3\n",
      "Continue3\n",
      "Continue3\n"
     ]
    }
   ],
   "source": [
    "stop_flag = True\n",
    "while stop_flag:\n",
    "    print(\"Continue3\")\n",
    "    i = random.randint(0, 10)\n",
    "    if i >= 5:\n",
    "        continue\n",
    "    else:\n",
    "        break"
   ]
  },
  {
   "cell_type": "markdown",
   "metadata": {},
   "source": [
    "### 8.2.4 i++"
   ]
  },
  {
   "cell_type": "code",
   "execution_count": 23,
   "metadata": {},
   "outputs": [
    {
     "name": "stdout",
     "output_type": "stream",
     "text": [
      "Continue4\n",
      "Continue4\n",
      "Continue4\n",
      "Continue4\n",
      "Continue4\n",
      "Continue4\n",
      "Continue4\n",
      "Continue4\n",
      "Continue4\n",
      "Continue4\n"
     ]
    }
   ],
   "source": [
    "i = 0\n",
    "while i < 10:\n",
    "    print(\"Continue4\")\n",
    "    i += 1"
   ]
  },
  {
   "cell_type": "markdown",
   "metadata": {},
   "source": [
    "# 9. Condition"
   ]
  },
  {
   "cell_type": "markdown",
   "metadata": {},
   "source": [
    "### 9.1 relational operators"
   ]
  },
  {
   "cell_type": "code",
   "execution_count": 24,
   "metadata": {},
   "outputs": [
    {
     "name": "stdout",
     "output_type": "stream",
     "text": [
      "True\n",
      "False\n",
      "False\n",
      "True\n"
     ]
    }
   ],
   "source": [
    "# \n",
    "a = 111 + 222\n",
    "b = 333 + 444.5\n",
    "print(a < b)\n",
    "print(a >= b)\n",
    "print(a == b)\n",
    "print(a != b)"
   ]
  },
  {
   "cell_type": "markdown",
   "metadata": {},
   "source": [
    "### 9.2 combining operators"
   ]
  },
  {
   "cell_type": "code",
   "execution_count": 25,
   "metadata": {},
   "outputs": [
    {
     "name": "stdout",
     "output_type": "stream",
     "text": [
      "True\n",
      "True\n",
      "False\n",
      "True\n",
      "True\n"
     ]
    }
   ],
   "source": [
    "x, y, z = 1, 2, 3\n",
    "print((x < y) and (y < z))\n",
    "print((x < y) or (y < z))\n",
    "print(not (x < y) and (y < z))\n",
    "print((x < y) & (y < z))\n",
    "print((x < y) | (not(y < z)))"
   ]
  },
  {
   "cell_type": "markdown",
   "metadata": {},
   "source": [
    "### 9.3 if elif else"
   ]
  },
  {
   "cell_type": "code",
   "execution_count": 26,
   "metadata": {},
   "outputs": [
    {
     "name": "stdout",
     "output_type": "stream",
     "text": [
      "Get F\n"
     ]
    }
   ],
   "source": [
    "score = 70\n",
    "punishment = True\n",
    "if score >= 90:\n",
    "    print(\"Get A+\")\n",
    "elif score >= 80:\n",
    "    print(\"Get B+\")\n",
    "elif score >= 70:\n",
    "    if punishment: # nested\n",
    "        print(\"Get F\")\n",
    "    else:\n",
    "        print(\"Get B+\")\n",
    "else:\n",
    "    print(\"Get F\")"
   ]
  },
  {
   "cell_type": "markdown",
   "metadata": {},
   "source": [
    "# 10. Self-defined function"
   ]
  },
  {
   "cell_type": "markdown",
   "metadata": {},
   "source": [
    "### 10.1 basic"
   ]
  },
  {
   "cell_type": "code",
   "execution_count": 27,
   "metadata": {},
   "outputs": [],
   "source": [
    "def pythagorean(a, b):\n",
    "    c = (a**2 + b**2)**(1/2)\n",
    "    return c"
   ]
  },
  {
   "cell_type": "markdown",
   "metadata": {},
   "source": [
    "### 10.2 example 1"
   ]
  },
  {
   "cell_type": "code",
   "execution_count": 29,
   "metadata": {},
   "outputs": [
    {
     "name": "stdout",
     "output_type": "stream",
     "text": [
      "F1n>}6mTkw\n"
     ]
    }
   ],
   "source": [
    "import random\n",
    "def generate_random_string(string_length):\n",
    "    random_string = \"\"\n",
    "    for _ in range(string_length):\n",
    "        random_string += chr(random.randint(0x20,0x7e))\n",
    "    return random_string\n",
    "print(generate_random_string(10))"
   ]
  },
  {
   "cell_type": "markdown",
   "metadata": {},
   "source": [
    "### 10.3 example 2 (*args)"
   ]
  },
  {
   "cell_type": "code",
   "execution_count": 30,
   "metadata": {},
   "outputs": [
    {
     "name": "stdout",
     "output_type": "stream",
     "text": [
      "SF`kjut|.P\n",
      "g* !^w58?m\n"
     ]
    }
   ],
   "source": [
    "def generate_random_string_avoid(string_length, *args):\n",
    "    random_string = \"\"\n",
    "    while len(random_string) < string_length:\n",
    "        get_random_chr = chr(random.randint(0x20,0x7e))\n",
    "        if get_random_chr in args:\n",
    "            continue\n",
    "        else:\n",
    "            random_string += get_random_chr\n",
    "    return random_string\n",
    "print(generate_random_string_avoid(10, \"a\"))\n",
    "print(generate_random_string_avoid(10, \"a\", \"_\"))"
   ]
  },
  {
   "cell_type": "markdown",
   "metadata": {},
   "source": [
    "### 10.3 example 2 (*kwargs)"
   ]
  },
  {
   "cell_type": "code",
   "execution_count": 31,
   "metadata": {},
   "outputs": [
    {
     "name": "stdout",
     "output_type": "stream",
     "text": [
      "('OQOMXDAWDKXHQCFLKGSTXWCTDZBUPE', 20)\n",
      "('ucndmundkpgavyrxiezpeovxydyjeg', 18)\n",
      "ztznhvigpwksfkjzsmwzjyshypoiyr\n",
      "17\n"
     ]
    }
   ],
   "source": [
    "def generate_random_string_avoid_with_key(string_length, *args, **kwargs):\n",
    "    random_string = \"\"\n",
    "        \n",
    "    while len(random_string) < string_length:\n",
    "        if \"upper\" in kwargs:\n",
    "            get_random_chr = chr(random.randint(0x41,0x5a))\n",
    "        elif \"lower\" in kwargs:\n",
    "            get_random_chr = chr(random.randint(0x61,0x7a))\n",
    "        else:\n",
    "            random_string += chr(random.randint(0x20,0x7e))\n",
    "            \n",
    "        if get_random_chr in args:\n",
    "            continue\n",
    "        else:\n",
    "            random_string += get_random_chr\n",
    "    return random_string, len(list(set(random_string)))\n",
    "\n",
    "print(generate_random_string_avoid_with_key(30, upper = True))\n",
    "print(generate_random_string_avoid_with_key(30, lower = True))\n",
    "random_string, random_string_unit = generate_random_string_avoid_with_key(30, \"a\", \"b\", \"c\", lower = True)\n",
    "print(random_string)\n",
    "print(random_string_unit)"
   ]
  }
 ],
 "metadata": {
  "kernelspec": {
   "display_name": "Python 3",
   "language": "python",
   "name": "python3"
  },
  "language_info": {
   "codemirror_mode": {
    "name": "ipython",
    "version": 3
   },
   "file_extension": ".py",
   "mimetype": "text/x-python",
   "name": "python",
   "nbconvert_exporter": "python",
   "pygments_lexer": "ipython3",
   "version": "3.7.1"
  }
 },
 "nbformat": 4,
 "nbformat_minor": 2
}
