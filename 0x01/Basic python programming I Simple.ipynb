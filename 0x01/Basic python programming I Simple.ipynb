{
 "cells": [
  {
   "cell_type": "markdown",
   "metadata": {},
   "source": [
    "# 0. Feature of the jupyter notebook"
   ]
  },
  {
   "cell_type": "markdown",
   "metadata": {},
   "source": [
    "### 0.1 How to use jupyter notebook"
   ]
  },
  {
   "cell_type": "code",
   "execution_count": 4,
   "metadata": {},
   "outputs": [],
   "source": [
    "# Line numbers\n",
    "# How to install pacakges\n",
    "# How to execute\n",
    "# Add or delete code cells"
   ]
  },
  {
   "cell_type": "markdown",
   "metadata": {},
   "source": [
    "### 0.2 python comments"
   ]
  },
  {
   "cell_type": "code",
   "execution_count": 7,
   "metadata": {},
   "outputs": [
    {
     "data": {
      "text/plain": [
       "'\\n3. Python comments\\n'"
      ]
     },
     "execution_count": 7,
     "metadata": {},
     "output_type": "execute_result"
    }
   ],
   "source": [
    "# Python comments \n",
    "1. #####\n",
    "\n",
    "\"\"\"\n",
    "2. Python comments\n",
    "hjkkk\n",
    "\"\"\"\n",
    "\n",
    "'''\n",
    "3. Python comments\n",
    "'''"
   ]
  },
  {
   "cell_type": "markdown",
   "metadata": {},
   "source": [
    "### 0.3 forget how to use any function"
   ]
  },
  {
   "cell_type": "code",
   "execution_count": 3,
   "metadata": {},
   "outputs": [],
   "source": [
    "len??"
   ]
  },
  {
   "cell_type": "markdown",
   "metadata": {},
   "source": [
    "# 1. Assign variable"
   ]
  },
  {
   "cell_type": "markdown",
   "metadata": {},
   "source": [
    "### 1.1 integer"
   ]
  },
  {
   "cell_type": "code",
   "execution_count": 7,
   "metadata": {},
   "outputs": [
    {
     "name": "stdout",
     "output_type": "stream",
     "text": [
      "0xff\n"
     ]
    }
   ],
   "source": [
    "a = 10\n",
    "b = int(20.5)\n",
    "n_b = -20"
   ]
  },
  {
   "cell_type": "markdown",
   "metadata": {},
   "source": [
    "### 1.2 float"
   ]
  },
  {
   "cell_type": "code",
   "execution_count": 8,
   "metadata": {},
   "outputs": [],
   "source": [
    "d = 3.14\n",
    "e = 6.02e23 # Avogadro constant"
   ]
  },
  {
   "cell_type": "markdown",
   "metadata": {},
   "source": [
    "### 1.3 char & string"
   ]
  },
  {
   "cell_type": "code",
   "execution_count": 9,
   "metadata": {},
   "outputs": [
    {
     "name": "stdout",
     "output_type": "stream",
     "text": [
      "2.718\n"
     ]
    }
   ],
   "source": [
    "char = \"c\"\n",
    "hello = \"hello\"\n",
    "float_to_string = str(2.718)\n",
    "print(float_to_string)"
   ]
  },
  {
   "cell_type": "markdown",
   "metadata": {},
   "source": [
    "### 1.4 bool & other"
   ]
  },
  {
   "cell_type": "code",
   "execution_count": 10,
   "metadata": {},
   "outputs": [],
   "source": [
    "# bool\n",
    "true = True\n",
    "false = False\n",
    "none = None\n",
    "### any value > 0 is True!"
   ]
  },
  {
   "cell_type": "markdown",
   "metadata": {},
   "source": [
    "### 1.5 simultaneous assignment"
   ]
  },
  {
   "cell_type": "code",
   "execution_count": 12,
   "metadata": {},
   "outputs": [
    {
     "name": "stdout",
     "output_type": "stream",
     "text": [
      "any sentence 1\n"
     ]
    }
   ],
   "source": [
    "# simultaneous assignment\n",
    "i, j, k = 1, 2.5, \"any sentence\"\n",
    "i, k = k, i\n",
    "print(i, k)"
   ]
  },
  {
   "cell_type": "markdown",
   "metadata": {},
   "source": [
    "# 2. Operators"
   ]
  },
  {
   "cell_type": "markdown",
   "metadata": {},
   "source": [
    "### 2.1 basic"
   ]
  },
  {
   "cell_type": "code",
   "execution_count": 14,
   "metadata": {},
   "outputs": [
    {
     "name": "stdout",
     "output_type": "stream",
     "text": [
      "30 -10 200 0.5 0\n"
     ]
    }
   ],
   "source": [
    "add = a + b\n",
    "subtract = a - b\n",
    "multiply = a * b\n",
    "divide = a / b #float\n",
    "divide_integer = a // b\n",
    "mod = a % b\n",
    "exp = d**(1/2)\n",
    "\n",
    "long_statement = ((a + b) / 2.5)\n",
    "print(add, subtract, multiply, divide, divide_integer,)"
   ]
  },
  {
   "cell_type": "markdown",
   "metadata": {},
   "source": [
    "### 2.3 concise"
   ]
  },
  {
   "cell_type": "code",
   "execution_count": 9,
   "metadata": {},
   "outputs": [
    {
     "name": "stdout",
     "output_type": "stream",
     "text": [
      "15 200\n"
     ]
    }
   ],
   "source": [
    "a += 5\n",
    "b *= 10 # -=, /=, //=\n",
    "print(a,b)"
   ]
  },
  {
   "cell_type": "markdown",
   "metadata": {},
   "source": [
    "# 3. Principle of Variable Naming"
   ]
  },
  {
   "cell_type": "code",
   "execution_count": 15,
   "metadata": {},
   "outputs": [
    {
     "name": "stdout",
     "output_type": "stream",
     "text": [
      "False\n"
     ]
    }
   ],
   "source": [
    "# Must start with a letter or underscore _\n",
    "m = 7\n",
    "_m = 7\n",
    "m_n = 7\n",
    "\n",
    "# Must consist of letters and numbers and underscores\n",
    "m1 = 6\n",
    "m2 = 7\n",
    "m3_3 = 10\n",
    "\n",
    "# Case Sensitive\n",
    "o = 6\n",
    "O = 7\n",
    "print(o == O) # False\n",
    "\n",
    "# Let the variable have some meaning\n",
    "student_id = \"r011111111\"\n",
    "student_loc = \"NTU\"\n",
    "\n",
    "# Should not combine Upper case in the middle of variable name\n",
    "StudentID = \"r011111111\" # Bad\n",
    "studentid = \"r011111111\" # Not good\n",
    "student_id = \"r011111111\" # Please name your variable like this"
   ]
  },
  {
   "cell_type": "markdown",
   "metadata": {},
   "source": [
    "# 4. input() and print() function"
   ]
  },
  {
   "cell_type": "markdown",
   "metadata": {},
   "source": [
    "### 4.1 basic"
   ]
  },
  {
   "cell_type": "code",
   "execution_count": 16,
   "metadata": {},
   "outputs": [
    {
     "name": "stdout",
     "output_type": "stream",
     "text": [
      "Any int:5\n",
      "5\n",
      "5 good\n",
      "461 good\n"
     ]
    }
   ],
   "source": [
    "# comma -> space\n",
    "a = int(input(\"Any int:\"))\n",
    "print(a)\n",
    "\n",
    "b = \"good\"\n",
    "print(a, b)\n",
    "\n",
    "c = 456\n",
    "print(a + c, b)"
   ]
  },
  {
   "cell_type": "markdown",
   "metadata": {},
   "source": [
    "### 4.2 how to add variable into print() function"
   ]
  },
  {
   "cell_type": "code",
   "execution_count": 1,
   "metadata": {},
   "outputs": [
    {
     "name": "stdout",
     "output_type": "stream",
     "text": [
      "Method 1 by comma\n",
      "Method 3 || by f string\n"
     ]
    }
   ],
   "source": [
    "test_float = 0.4771\n",
    "\n",
    "method_three = 3\n",
    "name_of_method_three = \"f string\"\n",
    "\n",
    "print(\"Method\",1, \"by comma\")\n",
    "print(f\"Method {method_three} || by {name_of_method_three}\")"
   ]
  },
  {
   "cell_type": "markdown",
   "metadata": {},
   "source": [
    "# 5. String manipulation"
   ]
  },
  {
   "cell_type": "markdown",
   "metadata": {},
   "source": [
    "### 5.1 combine string"
   ]
  },
  {
   "cell_type": "code",
   "execution_count": 2,
   "metadata": {},
   "outputs": [
    {
     "name": "stdout",
     "output_type": "stream",
     "text": [
      "916 hello bioinformatics\n"
     ]
    }
   ],
   "source": [
    "# combine string\n",
    "# either \"\" or '' is acceptable\n",
    "sentence_one = 'hello'\n",
    "sentence_two = \"bioinformatics\"\n",
    "value = 916\n",
    "print(str(value) + \" \" + sentence_one + \" \" + sentence_two)"
   ]
  },
  {
   "cell_type": "markdown",
   "metadata": {},
   "source": [
    "### 5.3 contain"
   ]
  },
  {
   "cell_type": "code",
   "execution_count": 22,
   "metadata": {},
   "outputs": [
    {
     "name": "stdout",
     "output_type": "stream",
     "text": [
      "True\n",
      "False\n",
      "True\n"
     ]
    }
   ],
   "source": [
    "#contain\n",
    "vowels = \"aeiou\"\n",
    "print(\"ae\" in vowels)\n",
    "print(\"c\" in vowels)\n",
    "print(not \"c\" in vowels)"
   ]
  },
  {
   "cell_type": "markdown",
   "metadata": {},
   "source": [
    "### 5.4 slicing"
   ]
  },
  {
   "cell_type": "code",
   "execution_count": 4,
   "metadata": {},
   "outputs": [
    {
     "name": "stdout",
     "output_type": "stream",
     "text": [
      "T\n",
      "e Zen of\n",
      "eters\n",
      "TeZno yhn yTmPtr\n"
     ]
    }
   ],
   "source": [
    "long_sentence = \"The Zen of Python, by Tim Peters\"\n",
    "print(long_sentence[0])\n",
    "print(long_sentence[2:10])\n",
    "print(long_sentence[-5:])\n",
    "print(long_sentence[::2])"
   ]
  },
  {
   "cell_type": "markdown",
   "metadata": {},
   "source": [
    "### 5.5 built in fucntion"
   ]
  },
  {
   "cell_type": "code",
   "execution_count": 5,
   "metadata": {},
   "outputs": [
    {
     "name": "stdout",
     "output_type": "stream",
     "text": [
      "32\n",
      "The  Zen  of  Python,  by  Tim  Peters\n",
      "['The Zen of Python', ' by Tim Peters']\n",
      "The Zen of Python, by Tim Peters\n",
      "\n",
      "The Zen of Python, by Tim Peters\n",
      "['The Zen of Python', ' by Tim Peters']\n"
     ]
    }
   ],
   "source": [
    "print(len(long_sentence))\n",
    "print(long_sentence.replace(\" \",\"  \"))\n",
    "print(long_sentence.split(\",\"))\n",
    "another_long_sentence = \"The Zen of Python, by Tim Peters\\n\"\n",
    "print(another_long_sentence)\n",
    "another_long_sentence_after_strip = another_long_sentence.strip()\n",
    "print(another_long_sentence_after_strip)\n",
    "print(another_long_sentence.strip().split(\",\"))"
   ]
  },
  {
   "cell_type": "markdown",
   "metadata": {},
   "source": [
    "# 6. List"
   ]
  },
  {
   "cell_type": "markdown",
   "metadata": {},
   "source": [
    "### 6.1 assign"
   ]
  },
  {
   "cell_type": "code",
   "execution_count": 3,
   "metadata": {},
   "outputs": [
    {
     "name": "stdout",
     "output_type": "stream",
     "text": [
      "1\n",
      "[1, 2]\n"
     ]
    }
   ],
   "source": [
    "# assign list **idx start from 0\n",
    "a = [1,2,3]\n",
    "print(a[0])\n",
    "print(a[0:2])\n",
    "\n",
    "# assign an empty list\n",
    "my_data_empty = []"
   ]
  },
  {
   "cell_type": "markdown",
   "metadata": {},
   "source": [
    "### 6.2 method"
   ]
  },
  {
   "cell_type": "code",
   "execution_count": 4,
   "metadata": {},
   "outputs": [
    {
     "name": "stdout",
     "output_type": "stream",
     "text": [
      "[10]\n",
      "[10, 20]\n",
      "[30, 10, 20]\n"
     ]
    }
   ],
   "source": [
    "## append value\n",
    "my_data_empty.append(10)\n",
    "print(my_data_empty)\n",
    "\n",
    "my_data_empty.append(20)\n",
    "print(my_data_empty)\n",
    "\n",
    "##insert value\n",
    "my_data_empty.insert(0, 30)\n",
    "print(my_data_empty)"
   ]
  },
  {
   "cell_type": "markdown",
   "metadata": {},
   "source": [
    "### 6.3 lists are mutable"
   ]
  },
  {
   "cell_type": "code",
   "execution_count": 5,
   "metadata": {},
   "outputs": [
    {
     "name": "stdout",
     "output_type": "stream",
     "text": [
      "[30, 100, 20]\n",
      "[30, 100, 20]\n"
     ]
    }
   ],
   "source": [
    "my_data_empty_copy = my_data_empty.copy()\n",
    "\n",
    "## lists are mutable\n",
    "my_data_empty[1] = 100\n",
    "print(my_data_empty)\n",
    "print(my_data_empty_copy)"
   ]
  },
  {
   "cell_type": "markdown",
   "metadata": {},
   "source": [
    "### 6.5 heterogeneous"
   ]
  },
  {
   "cell_type": "code",
   "execution_count": 7,
   "metadata": {},
   "outputs": [],
   "source": [
    "my_data = [\"Zen\", \"Python\", 2000, 123.4]"
   ]
  },
  {
   "cell_type": "markdown",
   "metadata": {},
   "source": [
    "### 6.6 function"
   ]
  },
  {
   "cell_type": "code",
   "execution_count": 23,
   "metadata": {},
   "outputs": [
    {
     "name": "stdout",
     "output_type": "stream",
     "text": [
      "9\n",
      "21\n",
      "0\n",
      "54\n"
     ]
    }
   ],
   "source": [
    "my_another_data = [0, 1, 1, 2, 3, 5, 8, 13, 21]\n",
    "print(len(my_another_data))\n",
    "print(max(my_another_data))\n",
    "print(min(my_another_data))\n",
    "print(sum(my_another_data))"
   ]
  },
  {
   "cell_type": "markdown",
   "metadata": {},
   "source": [
    "# 7. Dictionary"
   ]
  },
  {
   "cell_type": "markdown",
   "metadata": {},
   "source": [
    "### 7.1 assign and basic method"
   ]
  },
  {
   "cell_type": "code",
   "execution_count": 24,
   "metadata": {},
   "outputs": [
    {
     "name": "stdout",
     "output_type": "stream",
     "text": [
      "10\n",
      "B\n",
      "500\n"
     ]
    }
   ],
   "source": [
    "# assign an empty dict\n",
    "my_dict = {}\n",
    "my_dict[\"A\"] = 10\n",
    "my_dict[9] = \"B\"\n",
    "print(my_dict[\"A\"])\n",
    "print(my_dict[9])\n",
    "\n",
    "# direct assignment\n",
    "my_second_dict = {\"black tea\":30, \"green tea\":40, \"milk tea\": 60}\n",
    "my_third_dict = {\"black tea\":[30, \"cool\"], \"green tea\":40, \"milk tea\": 60}\n",
    "my_fourth_dict = {\"black tea\":{\"price\":30, \"vol\":700}, \n",
    "                  \"green tea\":{\"price\":40, \"vol\":700}, \n",
    "                  \"milk tea\": {\"price\":60, \"vol\":500}}\n",
    "print(my_fourth_dict[\"milk tea\"][\"vol\"])"
   ]
  },
  {
   "cell_type": "markdown",
   "metadata": {},
   "source": [
    "### 7.2 check if key exists"
   ]
  },
  {
   "cell_type": "code",
   "execution_count": 25,
   "metadata": {},
   "outputs": [
    {
     "name": "stdout",
     "output_type": "stream",
     "text": [
      "True\n",
      "False\n"
     ]
    }
   ],
   "source": [
    "print(\"milk tea\" in my_fourth_dict)\n",
    "print(\"matcha\" in my_fourth_dict)"
   ]
  },
  {
   "cell_type": "markdown",
   "metadata": {},
   "source": [
    "# 8. Loop"
   ]
  },
  {
   "cell_type": "markdown",
   "metadata": {},
   "source": [
    "## 8.1 for loop\n",
    "### 8.1.1 basic"
   ]
  },
  {
   "cell_type": "code",
   "execution_count": 26,
   "metadata": {},
   "outputs": [
    {
     "name": "stdout",
     "output_type": "stream",
     "text": [
      "0_1_2_3_4_5_6_7_8_9_\n",
      "AAAAAAAAAA\n",
      "Process 5\r"
     ]
    }
   ],
   "source": [
    "for i in range(10):\n",
    "    print(i, end = \"_\")\n",
    "print(\"\")\n",
    "\n",
    "for _ in range(10):\n",
    "    print(\"A\", end = \"\")\n",
    "print(\"\")\n",
    "\n",
    "import time\n",
    "for i in range(5):\n",
    "    time.sleep(1)\n",
    "    print(f\"Process {i+1}\", end = \"\\r\")"
   ]
  },
  {
   "cell_type": "markdown",
   "metadata": {},
   "source": [
    "### 8.1.2 enumerate and zip"
   ]
  },
  {
   "cell_type": "code",
   "execution_count": 18,
   "metadata": {},
   "outputs": [
    {
     "name": "stdout",
     "output_type": "stream",
     "text": [
      "A 10\n",
      "B 50\n",
      "C 40\n",
      "D 30\n",
      "1 A 10\n",
      "2 B 50\n",
      "3 C 40\n",
      "4 D 30\n"
     ]
    }
   ],
   "source": [
    "item_list = [\"A\", \"B\", \"C\", \"D\"]\n",
    "item_number_list = [10, 50, 40, 30]\n",
    "for item_name, item_number in zip(item_list, item_number_list):\n",
    "    print(item_name, item_number)\n",
    "    \n",
    "for idx, (item_name, item_number) in enumerate(zip(item_list, item_number_list)):\n",
    "    print(idx+1, item_name, item_number)"
   ]
  },
  {
   "cell_type": "markdown",
   "metadata": {},
   "source": [
    "## 8.2 while loop"
   ]
  },
  {
   "cell_type": "markdown",
   "metadata": {},
   "source": [
    "### 8.2.1 basic"
   ]
  },
  {
   "cell_type": "code",
   "execution_count": 28,
   "metadata": {},
   "outputs": [
    {
     "name": "stdout",
     "output_type": "stream",
     "text": [
      "Continue1\n",
      "Continue1\n",
      "Continue1\n",
      "Continue1\n",
      "Continue1\n"
     ]
    }
   ],
   "source": [
    "import random\n",
    "\n",
    "stop_flag = True\n",
    "while stop_flag:\n",
    "    print(\"Continue1\")\n",
    "    i = random.randint(0, 10)\n",
    "    if i == 6:\n",
    "        stop_flag = False"
   ]
  },
  {
   "cell_type": "markdown",
   "metadata": {},
   "source": [
    "### 8.2.2 break"
   ]
  },
  {
   "cell_type": "code",
   "execution_count": 33,
   "metadata": {
    "scrolled": true
   },
   "outputs": [
    {
     "name": "stdout",
     "output_type": "stream",
     "text": [
      "Continue2\n",
      "Continue2\n",
      "Continue2\n"
     ]
    }
   ],
   "source": [
    "while True:\n",
    "    print(\"Continue2\")\n",
    "    i = random.randint(0, 10)\n",
    "    if i == 7:\n",
    "        break"
   ]
  },
  {
   "cell_type": "markdown",
   "metadata": {},
   "source": [
    "### 8.2.3 continue"
   ]
  },
  {
   "cell_type": "code",
   "execution_count": 35,
   "metadata": {},
   "outputs": [
    {
     "name": "stdout",
     "output_type": "stream",
     "text": [
      "Continue3\n",
      "Continue3\n"
     ]
    }
   ],
   "source": [
    "while True:\n",
    "    print(\"Continue3\")\n",
    "    i = random.randint(0, 10)\n",
    "    if i >= 5:\n",
    "        continue\n",
    "    else:\n",
    "        break"
   ]
  },
  {
   "cell_type": "markdown",
   "metadata": {},
   "source": [
    "# 9. Condition"
   ]
  },
  {
   "cell_type": "markdown",
   "metadata": {},
   "source": [
    "### 9.1 relational operators"
   ]
  },
  {
   "cell_type": "code",
   "execution_count": 37,
   "metadata": {},
   "outputs": [
    {
     "name": "stdout",
     "output_type": "stream",
     "text": [
      "True\n",
      "False\n",
      "False\n",
      "True\n"
     ]
    }
   ],
   "source": [
    "# \n",
    "a = 111 + 222\n",
    "b = 333 + 444.5\n",
    "print(a < b)\n",
    "print(a >= b)\n",
    "print(a == b)\n",
    "print(a != b)"
   ]
  },
  {
   "cell_type": "markdown",
   "metadata": {},
   "source": [
    "### 9.2 combining operators"
   ]
  },
  {
   "cell_type": "code",
   "execution_count": 25,
   "metadata": {},
   "outputs": [
    {
     "name": "stdout",
     "output_type": "stream",
     "text": [
      "True\n",
      "True\n",
      "False\n",
      "True\n",
      "True\n"
     ]
    }
   ],
   "source": [
    "x, y, z = 1, 2, 3\n",
    "print((x < y) and (y < z))\n",
    "print((x < y) or (y < z))\n",
    "print(not (x < y) and (y < z))\n",
    "print((x < y) & (y < z))\n",
    "print((x < y) | (not(y < z)))"
   ]
  },
  {
   "cell_type": "markdown",
   "metadata": {},
   "source": [
    "### 9.3 if elif else"
   ]
  },
  {
   "cell_type": "code",
   "execution_count": 38,
   "metadata": {},
   "outputs": [
    {
     "name": "stdout",
     "output_type": "stream",
     "text": [
      "Get F\n"
     ]
    }
   ],
   "source": [
    "score = 70\n",
    "punishment = True\n",
    "if score >= 90:\n",
    "    print(\"Get A+\")\n",
    "elif score >= 80:\n",
    "    print(\"Get B+\")\n",
    "elif score >= 70:\n",
    "    if punishment: # nested\n",
    "        print(\"Get F\")\n",
    "    else:\n",
    "        print(\"Get B+\")\n",
    "else:\n",
    "    print(\"Get F\")"
   ]
  },
  {
   "cell_type": "markdown",
   "metadata": {},
   "source": [
    "# 10. Self-defined function"
   ]
  },
  {
   "cell_type": "markdown",
   "metadata": {},
   "source": [
    "### 10.1 basic"
   ]
  },
  {
   "cell_type": "code",
   "execution_count": 41,
   "metadata": {},
   "outputs": [
    {
     "data": {
      "text/plain": [
       "5.0"
      ]
     },
     "execution_count": 41,
     "metadata": {},
     "output_type": "execute_result"
    }
   ],
   "source": [
    "def pythagorean(a, b):\n",
    "    c = (a**2 + b**2)**(1/2)\n",
    "    return c\n",
    "c= pythagorean(3, 4)\n",
    "print(c)"
   ]
  }
 ],
 "metadata": {
  "kernelspec": {
   "display_name": "Python 3",
   "language": "python",
   "name": "python3"
  },
  "language_info": {
   "codemirror_mode": {
    "name": "ipython",
    "version": 3
   },
   "file_extension": ".py",
   "mimetype": "text/x-python",
   "name": "python",
   "nbconvert_exporter": "python",
   "pygments_lexer": "ipython3",
   "version": "3.7.1"
  }
 },
 "nbformat": 4,
 "nbformat_minor": 2
}
